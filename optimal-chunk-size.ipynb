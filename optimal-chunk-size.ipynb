{
 "cells": [
  {
   "cell_type": "code",
   "execution_count": 4,
   "metadata": {},
   "outputs": [],
   "source": [
    "import tiktoken\n",
    "import math\n",
    "from tokenizers import Tokenizer\n",
    "import tqdm as notebook_tqdm"
   ]
  },
  {
   "cell_type": "code",
   "execution_count": 5,
   "metadata": {},
   "outputs": [],
   "source": [
    "tokenizer = Tokenizer.from_pretrained(\"bert-base-uncased\")"
   ]
  },
  {
   "cell_type": "code",
   "execution_count": null,
   "metadata": {},
   "outputs": [],
   "source": [
    "def auto_chunker(document, max_chunk_size, model):\n",
    "\n",
    "    tokenizer = tiktoken.encoding_for_model(model)\n",
    "    document_tokens = tokenizer.encode(document)\n",
    "    document_size = len(document_tokens)\n",
    "    # total chunk number\n",
    "    K = math.ceil(document_size / max_chunk_size)\n",
    "    # average integer chunk size\n",
    "    average_chunk_size = math.ceil(document_size / K)\n",
    "    # number of chunks with average_chunk_size - 1 \n",
    "    shorter_chunk_number = K * average_chunk_size - document_size\n",
    "    # number of chunks with average_chunk_size\n",
    "    standard_chunk_number = K - shorter_chunk_number\n",
    "\n",
    "    chunks = []\n",
    "    chunk_start = 0\n",
    "    for i in range(0, K):\n",
    "        if i < standard_chunk_number:\n",
    "            chunk_end = chunk_start + average_chunk_size\n",
    "        else:\n",
    "            chunk_end = chunk_start + average_chunk_size - 1\n",
    "        chunk = document_tokens[chunk_start:chunk_end]\n",
    "        chunks.append(tokenizer.decode(chunk))\n",
    "        chunk_start = chunk_end\n",
    "\n",
    "    assert chunk_start == document_size\n",
    "    return chunks"
   ]
  }
 ],
 "metadata": {
  "kernelspec": {
   "display_name": "long-doc-chunking",
   "language": "python",
   "name": "python3"
  },
  "language_info": {
   "codemirror_mode": {
    "name": "ipython",
    "version": 3
   },
   "file_extension": ".py",
   "mimetype": "text/x-python",
   "name": "python",
   "nbconvert_exporter": "python",
   "pygments_lexer": "ipython3",
   "version": "3.9.12"
  }
 },
 "nbformat": 4,
 "nbformat_minor": 2
}
